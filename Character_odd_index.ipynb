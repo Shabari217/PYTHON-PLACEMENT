{
  "nbformat": 4,
  "nbformat_minor": 0,
  "metadata": {
    "colab": {
      "provenance": []
    },
    "kernelspec": {
      "name": "python3",
      "display_name": "Python 3"
    },
    "language_info": {
      "name": "python"
    }
  },
  "cells": [
    {
      "cell_type": "code",
      "execution_count": 1,
      "metadata": {
        "colab": {
          "base_uri": "https://localhost:8080/"
        },
        "id": "Z22PKUvUJ3kC",
        "outputId": "b772d58a-7211-4742-ead6-a13cc879b154"
      },
      "outputs": [
        {
          "output_type": "stream",
          "name": "stdout",
          "text": [
            "greeshma\n",
            "gesm\n"
          ]
        }
      ],
      "source": [
        "s=input(\"\")\n",
        "a=\"\"\n",
        "for i in range(0,len(s)):\n",
        "  if i%2==0:\n",
        "    a=a+s[i]\n",
        "print(a)"
      ]
    }
  ]
}