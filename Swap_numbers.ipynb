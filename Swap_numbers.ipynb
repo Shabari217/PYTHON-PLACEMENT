{
  "nbformat": 4,
  "nbformat_minor": 0,
  "metadata": {
    "colab": {
      "provenance": []
    },
    "kernelspec": {
      "name": "python3",
      "display_name": "Python 3"
    },
    "language_info": {
      "name": "python"
    }
  },
  "cells": [
    {
      "cell_type": "code",
      "execution_count": 1,
      "metadata": {
        "colab": {
          "base_uri": "https://localhost:8080/"
        },
        "id": "nEigjZdmNYdq",
        "outputId": "0791e4c5-6d58-4a35-88b0-9bd173dd83a7"
      },
      "outputs": [
        {
          "output_type": "stream",
          "name": "stdout",
          "text": [
            "1\n",
            "2\n",
            "Before swapping:\n",
            "a = 1\n",
            "b = 2\n",
            "After swapping:\n",
            "a = 2\n",
            "b = 1\n"
          ]
        }
      ],
      "source": [
        "def swap_numbers(a,b):\n",
        "  print(\"Before swapping:\")\n",
        "  print(\"a =\",a)\n",
        "  print(\"b =\",b)\n",
        "\n",
        "  temp=a\n",
        "  a=b\n",
        "  b=temp\n",
        "\n",
        "  print(\"After swapping:\")\n",
        "  print(\"a =\",a)\n",
        "  print(\"b =\",b)\n",
        "  return a,b\n",
        "\n",
        "num1=int(input())\n",
        "num2=int(input())\n",
        "num1,num2=swap_numbers(num1,num2)"
      ]
    },
    {
      "cell_type": "markdown",
      "source": [
        "without using third variable"
      ],
      "metadata": {
        "id": "qoCMMzqcUPgi"
      }
    },
    {
      "cell_type": "code",
      "source": [
        "def swap_numbers(a,b):\n",
        "  print(\"Before swapping:\")\n",
        "  print(\"a =\",a)\n",
        "  print(\"b =\",b)\n",
        "\n",
        "  a=a+b\n",
        "  b=a-b\n",
        "  a=a-b\n",
        "\n",
        "  print(\"After swapping:\")\n",
        "  print(\"a =\",a)\n",
        "  print(\"b =\",b)\n",
        "  return a,b\n",
        "\n",
        "num1=int(input())\n",
        "num2=int(input())\n",
        "num1,num2=swap_numbers(num1,num2)"
      ],
      "metadata": {
        "colab": {
          "base_uri": "https://localhost:8080/"
        },
        "id": "xSx7tkiHUUzz",
        "outputId": "0b4bc64a-91ab-44b1-a58b-058a714204ef"
      },
      "execution_count": 2,
      "outputs": [
        {
          "output_type": "stream",
          "name": "stdout",
          "text": [
            "3\n",
            "4\n",
            "Before swapping:\n",
            "a = 3\n",
            "b = 4\n",
            "After swapping:\n",
            "a = 4\n",
            "b = 3\n"
          ]
        }
      ]
    }
  ]
}