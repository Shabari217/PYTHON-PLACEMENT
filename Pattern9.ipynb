{
  "nbformat": 4,
  "nbformat_minor": 0,
  "metadata": {
    "colab": {
      "provenance": []
    },
    "kernelspec": {
      "name": "python3",
      "display_name": "Python 3"
    },
    "language_info": {
      "name": "python"
    }
  },
  "cells": [
    {
      "cell_type": "code",
      "execution_count": 1,
      "metadata": {
        "colab": {
          "base_uri": "https://localhost:8080/"
        },
        "id": "ggH-Hh_iDbVj",
        "outputId": "3bd2dc39-cd11-4945-c21f-8f4e12397209"
      },
      "outputs": [
        {
          "output_type": "stream",
          "name": "stdout",
          "text": [
            "5\n",
            "5\n",
            "5 5 5 5 5 \n",
            "5 5 5 5 5 \n",
            "5 5 5 5 5 \n",
            "5 5 5 5 5 \n",
            "5 5 5 5 5 \n"
          ]
        }
      ],
      "source": [
        "n=int(input())\n",
        "k=input()\n",
        "for i in range(n):\n",
        "  for j in range(n):\n",
        "    print(k,end=\" \")\n",
        "  print()"
      ]
    }
  ]
}