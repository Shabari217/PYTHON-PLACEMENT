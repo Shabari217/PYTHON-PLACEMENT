{
  "nbformat": 4,
  "nbformat_minor": 0,
  "metadata": {
    "colab": {
      "provenance": []
    },
    "kernelspec": {
      "name": "python3",
      "display_name": "Python 3"
    },
    "language_info": {
      "name": "python"
    }
  },
  "cells": [
    {
      "cell_type": "code",
      "execution_count": 3,
      "metadata": {
        "colab": {
          "base_uri": "https://localhost:8080/"
        },
        "id": "7SEqVxi0Aogx",
        "outputId": "59d69e9c-38de-4f84-d444-33bdd6788ea3"
      },
      "outputs": [
        {
          "output_type": "stream",
          "name": "stdout",
          "text": [
            "5\n",
            "* * * * * \n",
            "* *   * * \n",
            "*   *   * \n",
            "* *   * * \n",
            "* * * * * \n"
          ]
        }
      ],
      "source": [
        "n=int(input())\n",
        "for i in range(n):\n",
        "  for j in range(n):\n",
        "    if i==0 or i==n-1 or j==0 or j==n-1 or i==j or i+j==n-1:\n",
        "      print(\"*\",end=\" \")\n",
        "    else:\n",
        "      print(\" \",end=\" \")\n",
        "  print()"
      ]
    }
  ]
}