{
  "nbformat": 4,
  "nbformat_minor": 0,
  "metadata": {
    "colab": {
      "provenance": []
    },
    "kernelspec": {
      "name": "python3",
      "display_name": "Python 3"
    },
    "language_info": {
      "name": "python"
    }
  },
  "cells": [
    {
      "cell_type": "code",
      "execution_count": 2,
      "metadata": {
        "colab": {
          "base_uri": "https://localhost:8080/"
        },
        "id": "69l8-ItphS7c",
        "outputId": "20923c7e-a871-4db4-9058-1dcd2dac37b4"
      },
      "outputs": [
        {
          "output_type": "stream",
          "name": "stdout",
          "text": [
            "5\n",
            "* \n",
            "* * \n",
            "* * * \n",
            "* * * * \n",
            "* * * * * \n"
          ]
        }
      ],
      "source": [
        "n=int(input())\n",
        "for i in range(0,n):\n",
        "  for j in range(0,n):\n",
        "    if(j<=i):\n",
        "      print(\"*\",end=\" \")\n",
        "  print()\n"
      ]
    }
  ]
}