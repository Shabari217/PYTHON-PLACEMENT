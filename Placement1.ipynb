{
  "nbformat": 4,
  "nbformat_minor": 0,
  "metadata": {
    "colab": {
      "provenance": []
    },
    "kernelspec": {
      "name": "python3",
      "display_name": "Python 3"
    },
    "language_info": {
      "name": "python"
    }
  },
  "cells": [
    {
      "cell_type": "code",
      "execution_count": 1,
      "metadata": {
        "colab": {
          "base_uri": "https://localhost:8080/"
        },
        "id": "EUUO1fTURxVb",
        "outputId": "1bf5821e-51a6-45f7-ee69-03e0bb1f6a47"
      },
      "outputs": [
        {
          "output_type": "stream",
          "name": "stdout",
          "text": [
            "Enter your name:greesh\n",
            "Enter your mark:80\n",
            "Pass\n"
          ]
        }
      ],
      "source": [
        "\n",
        "def evaluate_mark(mark):\n",
        "  if mark > 80:\n",
        "    return \"Distinction\"\n",
        "  elif mark >= 60 and mark <= 80:\n",
        "    return \"Pass\"\n",
        "  elif mark < 60 and mark >= 0:\n",
        "    return \"Fail\"\n",
        "  else:\n",
        "    return \"Invalid\"\n",
        "\n",
        "name=input(\"Enter your name:\")\n",
        "mark=int(input(\"Enter your mark:\"))\n",
        "result = evaluate_mark(mark)\n",
        "print(result)  # Output: Pass"
      ]
    },
    {
      "cell_type": "code",
      "source": [
        "def is_prime(n):\n",
        "\n",
        "  if n <= 1:\n",
        "    return False\n",
        "  for i in range(2, n):\n",
        "    if n % i == 0:\n",
        "      return False\n",
        "  return True\n",
        "\n",
        "\n",
        "num = int(input(\"Enter a number: \"))\n",
        "\n",
        "\n",
        "if is_prime(num):\n",
        "  print(num, \"is a prime number\")\n",
        "else:\n",
        "  print(num, \"is not a prime number\")"
      ],
      "metadata": {
        "colab": {
          "base_uri": "https://localhost:8080/"
        },
        "id": "rWuJfUMtzIyL",
        "outputId": "e776bd0e-8d3e-4492-e569-e01738b2bbbc"
      },
      "execution_count": 8,
      "outputs": [
        {
          "output_type": "stream",
          "name": "stdout",
          "text": [
            "Enter a number: 5\n",
            "5 is a prime number\n"
          ]
        }
      ]
    },
    {
      "cell_type": "code",
      "source": [
        "n = int(input(\"Enter a number: \"))\n",
        "\n",
        "if n <= 1:\n",
        "    print(n, \"is not a prime number\")\n",
        "else:\n",
        "    for i in range(2, n):\n",
        "        if n % i == 0:\n",
        "            print(n, \"is not a prime number\")\n",
        "            break\n",
        "    else:\n",
        "        print(n, \"is a prime number\")\n",
        "\n"
      ],
      "metadata": {
        "colab": {
          "base_uri": "https://localhost:8080/"
        },
        "id": "rLbkFpvTFyVH",
        "outputId": "516fa5d5-963a-4207-b337-784a6408eca7"
      },
      "execution_count": 24,
      "outputs": [
        {
          "output_type": "stream",
          "name": "stdout",
          "text": [
            "Enter a number: 7\n",
            "7 is a prime number\n"
          ]
        }
      ]
    },
    {
      "cell_type": "code",
      "source": [
        "s=int(input(\"Enter the statrting number:\\n\"))\n",
        "e=int(input(\"Enter the ending number:\\n\"))\n",
        "c=0\n",
        "for num in range(s,e+1):\n",
        "  for i in range(2,num):\n",
        "    if(num%i==0):\n",
        "      break\n",
        "  else:\n",
        "      print(num)\n",
        "      c=c+1\n",
        "print(\"Total prime numbers in given range=\",c)"
      ],
      "metadata": {
        "colab": {
          "base_uri": "https://localhost:8080/"
        },
        "id": "7c4eOfGi5WNy",
        "outputId": "3d449a44-5915-4e0e-a804-ed6fcfe9f399"
      },
      "execution_count": 19,
      "outputs": [
        {
          "output_type": "stream",
          "name": "stdout",
          "text": [
            "Enter the statrting number:\n",
            "2\n",
            "Enter the ending number:\n",
            "10\n",
            "2\n",
            "3\n",
            "5\n",
            "7\n",
            "Total prime numbers in given range= 4\n"
          ]
        }
      ]
    },
    {
      "cell_type": "markdown",
      "source": [
        "STRONG NUMBER"
      ],
      "metadata": {
        "id": "xq7QddhRLm5R"
      }
    },
    {
      "cell_type": "code",
      "source": [
        "sum=0\n",
        "n=int(input(\"Enter a number:\"))\n",
        "temp=n\n",
        "while(n !=0):\n",
        "   i=1\n",
        "   f=1\n",
        "   r=n%10\n",
        "   while(i<=r):\n",
        "    f=f*i\n",
        "    i=i+1\n",
        "   sum=sum+f\n",
        "   n=n//10\n",
        "if(temp==sum):\n",
        "   print(\"The number is a strong number\")\n",
        "else:\n",
        "   print(\"The number is not a strong number\")\n",
        "\n"
      ],
      "metadata": {
        "colab": {
          "base_uri": "https://localhost:8080/"
        },
        "id": "WLsaL8qz71qs",
        "outputId": "d12f82cc-c6ea-4622-a6a2-3b3f7f4b9d90"
      },
      "execution_count": 11,
      "outputs": [
        {
          "output_type": "stream",
          "name": "stdout",
          "text": [
            "Enter a number:145\n",
            "The number is a strong number\n"
          ]
        }
      ]
    },
    {
      "cell_type": "markdown",
      "source": [
        "ARMSTRONG NUMBER"
      ],
      "metadata": {
        "id": "8kx4kpTOLw20"
      }
    },
    {
      "cell_type": "code",
      "source": [
        "n=int(input(\"Enter a number:\"))\n",
        "sum=0\n",
        "temp=n\n",
        "while(n!=0):\n",
        "  r=n%10\n",
        "  sum=sum+(r**3)\n",
        "  n=n//10\n",
        "if(temp==sum):\n",
        "  print(temp,\"is an armstrong number\")\n",
        "else:\n",
        "  print(temp,\"is not an armstrong number\")\n",
        "\n",
        "\n"
      ],
      "metadata": {
        "id": "f9vbX1P0LkHB"
      },
      "execution_count": null,
      "outputs": []
    },
    {
      "cell_type": "markdown",
      "source": [
        "HAPPY NUMBER"
      ],
      "metadata": {
        "id": "Cp7_xWrgOegx"
      }
    },
    {
      "cell_type": "code",
      "source": [
        "n=int(input(\"Enter a number:\"))\n",
        "sq=n*n\n",
        "temp=n\n",
        "sum=0\n",
        "while(sq!=0):\n",
        "  r=sq%10\n",
        "  sum=sum+(r**2)\n",
        "  sq=sq//10\n",
        "while(sum!=1):\n",
        "  sq=sum*sum\n",
        "if(sum==1):\n",
        "  print(temp,\"is a happy number\")\n",
        "else:\n",
        "  print(temp,\"is not a happy number\")"
      ],
      "metadata": {
        "colab": {
          "base_uri": "https://localhost:8080/"
        },
        "id": "HDfp6nLfOJ3E",
        "outputId": "eb192b6d-6f6a-4dd7-eba0-680a892e847f"
      },
      "execution_count": null,
      "outputs": [
        {
          "name": "stdout",
          "output_type": "stream",
          "text": [
            "Enter a number:9\n"
          ]
        }
      ]
    },
    {
      "cell_type": "markdown",
      "source": [
        "NEON NUMBER"
      ],
      "metadata": {
        "id": "Q8HW2fPyQKGY"
      }
    },
    {
      "cell_type": "code",
      "source": [
        "n=int(input(\"Enter a number:\"))\n",
        "sq=n*n\n",
        "\n",
        "sum=0\n",
        "while(sq!=0):\n",
        "  r=sq%10\n",
        "  sum=sum+r\n",
        "  sq=sq//10\n",
        "if(sum==n):\n",
        "  print(n,\"is a neon number\")\n",
        "else:\n",
        "  print(n,\"is not a neon number\")\n",
        ""
      ],
      "metadata": {
        "colab": {
          "base_uri": "https://localhost:8080/"
        },
        "id": "SQdrQziUS4rF",
        "outputId": "f450dac2-7b0f-47f6-ff0d-1822844f5a8d"
      },
      "execution_count": 20,
      "outputs": [
        {
          "output_type": "stream",
          "name": "stdout",
          "text": [
            "Enter a number:9\n",
            "9 is a neon number\n"
          ]
        }
      ]
    },
    {
      "cell_type": "markdown",
      "source": [
        "SPY  NUMBER"
      ],
      "metadata": {
        "id": "ItwMBeciUH1t"
      }
    },
    {
      "cell_type": "code",
      "source": [
        "n=int(input(\"Enter a number:\"))\n",
        "sum=0\n",
        "temp=n\n",
        "product=1\n",
        "while(n!=0):\n",
        "  r=n%10\n",
        "  sum=sum+r\n",
        "  product=product*r\n",
        "  n=n//10\n",
        "if(sum==product):\n",
        "  print(temp,\"is a spy number\")\n",
        "else:\n",
        "  print(temp,\"is not a spy number\")"
      ],
      "metadata": {
        "colab": {
          "base_uri": "https://localhost:8080/"
        },
        "id": "jb4oA0V4UJ2E",
        "outputId": "4ca6c1a5-f349-42c0-9bc0-ebb2ee4f083a"
      },
      "execution_count": 22,
      "outputs": [
        {
          "output_type": "stream",
          "name": "stdout",
          "text": [
            "Enter a number:1412\n",
            "1412 is a spy number\n"
          ]
        }
      ]
    },
    {
      "cell_type": "markdown",
      "source": [
        "PALINDROME NUMBER"
      ],
      "metadata": {
        "id": "Cbj2uYxlU4tR"
      }
    },
    {
      "cell_type": "code",
      "source": [
        "n=int(input(\"Enter a number:\"))\n",
        "temp=n\n",
        "rev=0\n",
        "while(n!=0):\n",
        "  r=n%10\n",
        "  rev=rev*10+r\n",
        "  n=n//10\n",
        "if(temp==rev):\n",
        "  print(temp,\"is a palindrome number\")\n",
        "else:\n",
        "  print(temp,\"is not a palindrome number\")"
      ],
      "metadata": {
        "colab": {
          "base_uri": "https://localhost:8080/"
        },
        "id": "Qf4W60t2U7rt",
        "outputId": "33499938-bbcf-4058-bb0f-26d00c2dae55"
      },
      "execution_count": 2,
      "outputs": [
        {
          "output_type": "stream",
          "name": "stdout",
          "text": [
            "Enter a number:1\n",
            "1 is a palindrome number\n"
          ]
        }
      ]
    },
    {
      "cell_type": "markdown",
      "source": [
        "NEGATIVE TO POSITIVE"
      ],
      "metadata": {
        "id": "oC44J7K183EU"
      }
    },
    {
      "cell_type": "code",
      "source": [
        "n=int(input(\"Enter a number:\"))\n",
        "if(n<0):\n",
        "  n=n*-1\n",
        "  print(n)\n",
        "else:\n",
        "  print(n)"
      ],
      "metadata": {
        "colab": {
          "base_uri": "https://localhost:8080/"
        },
        "id": "XVP0_Due9mJz",
        "outputId": "00269968-3d1d-495b-967a-3f0aad920a08"
      },
      "execution_count": 4,
      "outputs": [
        {
          "output_type": "stream",
          "name": "stdout",
          "text": [
            "Enter a number:-5\n",
            "5\n"
          ]
        }
      ]
    },
    {
      "cell_type": "markdown",
      "source": [
        "FIBONACCI SERIES\n"
      ],
      "metadata": {
        "id": "oR1WY19T-E0i"
      }
    },
    {
      "cell_type": "code",
      "source": [
        "n=int(input(\"Enter a number:\"))\n",
        "a=0\n",
        "b=1\n",
        "print(a)\n",
        "print(b)\n",
        "for i in range(2,n):\n",
        "  c=a+b\n",
        "  print(c)\n",
        "  a=b\n",
        "  b=c\n"
      ],
      "metadata": {
        "colab": {
          "base_uri": "https://localhost:8080/"
        },
        "id": "tx1AnqQj-JvD",
        "outputId": "666568f1-ada3-406b-f8c5-93ec138cd885"
      },
      "execution_count": 25,
      "outputs": [
        {
          "output_type": "stream",
          "name": "stdout",
          "text": [
            "Enter a number:6\n",
            "0\n",
            "1\n",
            "1\n",
            "2\n",
            "3\n",
            "5\n"
          ]
        }
      ]
    },
    {
      "cell_type": "markdown",
      "source": [
        "FACTORIAL"
      ],
      "metadata": {
        "id": "2SyJ5Ika_U9q"
      }
    },
    {
      "cell_type": "code",
      "source": [
        "n=int(input(\"Enter a number:\"))\n",
        "f=1\n",
        "for i in range(1,n+1):\n",
        "  f=f*i\n",
        "print(f)"
      ],
      "metadata": {
        "colab": {
          "base_uri": "https://localhost:8080/"
        },
        "id": "RjL-X_cI_ZAn",
        "outputId": "6e2d2a6f-e246-439f-9311-76384fa83b05"
      },
      "execution_count": 9,
      "outputs": [
        {
          "output_type": "stream",
          "name": "stdout",
          "text": [
            "Enter a number:4\n",
            "24\n"
          ]
        }
      ]
    },
    {
      "cell_type": "markdown",
      "source": [
        "MULTIPLICATION TABLE"
      ],
      "metadata": {
        "id": "JfOfn0HyAdjb"
      }
    },
    {
      "cell_type": "code",
      "source": [
        "n=int(input(\"Enter a number:\"))\n",
        "for i in range(1,11):\n",
        "  print(n,\"*\",i,\"=\",n*i)"
      ],
      "metadata": {
        "colab": {
          "base_uri": "https://localhost:8080/"
        },
        "id": "CSCVOYHHAhZK",
        "outputId": "982c1ad2-d653-4e5c-d29f-7d635249b937"
      },
      "execution_count": 10,
      "outputs": [
        {
          "output_type": "stream",
          "name": "stdout",
          "text": [
            "Enter a number:5\n",
            "5 * 1 = 5\n",
            "5 * 2 = 10\n",
            "5 * 3 = 15\n",
            "5 * 4 = 20\n",
            "5 * 5 = 25\n",
            "5 * 6 = 30\n",
            "5 * 7 = 35\n",
            "5 * 8 = 40\n",
            "5 * 9 = 45\n",
            "5 * 10 = 50\n"
          ]
        }
      ]
    },
    {
      "cell_type": "markdown",
      "source": [
        "LEAP YEAR"
      ],
      "metadata": {
        "id": "tY3LRXFABGY2"
      }
    },
    {
      "cell_type": "code",
      "source": [
        "n=int(input(\"Enter a year:\"))\n",
        "if(n%400==0):\n",
        "  print(n,\"is a leap year\")\n",
        "else:\n",
        "  print(n,\"is not a leap year\")"
      ],
      "metadata": {
        "colab": {
          "base_uri": "https://localhost:8080/"
        },
        "id": "RZgIH0KABKBt",
        "outputId": "c63f5370-e4f2-4d17-d539-0b95b907ec04"
      },
      "execution_count": 13,
      "outputs": [
        {
          "output_type": "stream",
          "name": "stdout",
          "text": [
            "Enter a year:2018\n",
            "2018 is not a leap year\n"
          ]
        }
      ]
    },
    {
      "cell_type": "markdown",
      "source": [
        "HAPPY NUMBER_"
      ],
      "metadata": {
        "id": "DB9v5N5gFpfh"
      }
    },
    {
      "cell_type": "code",
      "source": [
        "def is_happy(n):\n",
        "  sum=0\n",
        "  while(n!=0):\n",
        "    r=n%10\n",
        "    sum=sum+r**2\n",
        "    n=n//10\n",
        "  return sum\n",
        "\n",
        "n=int(input(\"Enter a number:\"))\n",
        "res=n\n",
        "while(res !=1 and res !=4):\n",
        "  res=is_happy(res)\n",
        "\n",
        "if(res==1):\n",
        "  print(\"happy number\")\n",
        "elif(res==4):\n",
        "  print(\"not a happy number\")"
      ],
      "metadata": {
        "colab": {
          "base_uri": "https://localhost:8080/"
        },
        "id": "rFfFdt_iFsG2",
        "outputId": "50c030f3-6870-4e0b-aac6-be128a537121"
      },
      "execution_count": 15,
      "outputs": [
        {
          "output_type": "stream",
          "name": "stdout",
          "text": [
            "Enter a number:19\n",
            "happy number\n"
          ]
        }
      ]
    }
  ]
}